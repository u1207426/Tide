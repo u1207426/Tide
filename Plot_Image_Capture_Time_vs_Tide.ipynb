{
 "cells": [
  {
   "cell_type": "code",
   "execution_count": null,
   "id": "c821c430",
   "metadata": {},
   "outputs": [],
   "source": [
    "#第一次請執行這裡安裝必要套件，第二次後就可以略過\n",
    "!conda install pandas\n",
    "!conda install matplotlib"
   ]
  },
  {
   "cell_type": "code",
   "execution_count": null,
   "id": "57bcbb14",
   "metadata": {},
   "outputs": [],
   "source": [
    "import datetime\n",
    "import pandas as pd\n",
    "import matplotlib.pyplot as plt\n",
    "from matplotlib import dates as mdates\n",
    "from matplotlib.dates import DateFormatter"
   ]
  },
  {
   "cell_type": "code",
   "execution_count": null,
   "id": "94571317",
   "metadata": {},
   "outputs": [],
   "source": [
    "#讀取潮位資料\n",
    "df = pd.read_csv(\"tide_TS_202301.csv\")\n",
    "df[\"Time\"] = pd.to_datetime(df[\"Time\"])\n",
    "df"
   ]
  },
  {
   "cell_type": "code",
   "execution_count": null,
   "id": "ffd92d40",
   "metadata": {},
   "outputs": [],
   "source": [
    "#讀取影像拍攝時間\n",
    "df_image = pd.read_csv(\"image_time_TS_202301.csv\")\n",
    "df_image[\"Time\"] = pd.to_datetime(df_image[\"Time\"])\n",
    "df_image"
   ]
  },
  {
   "cell_type": "code",
   "execution_count": null,
   "id": "6c523ec2",
   "metadata": {},
   "outputs": [],
   "source": [
    "#內插影像拍攝時間點的潮位(\"Tag\")作為y值\n",
    "df[\"Tag\"] = \"0\"\n",
    "df_image[\"Tag\"] = \"1\" #新增Tag欄位標記為:1，藉此跟潮位資料做區別\n",
    "df_merge = pd.concat([df ,df_image], ignore_index=True)\n",
    "df_merge = df_merge.sort_values([\"Time\"], ascending=True) #Time欄位必須為時間格式才能做排序\n",
    "df_merge.set_index('Time', inplace=True)\n",
    "df_merge[\"Tide\"] = df_merge[\"Tide\"].interpolate(method='time')\n",
    "df_merge = df_merge.reset_index()\n",
    "df_merge"
   ]
  },
  {
   "cell_type": "code",
   "execution_count": null,
   "id": "f8c57c9b",
   "metadata": {},
   "outputs": [],
   "source": [
    "#設定雲量門檻\n",
    "ct = 0.3"
   ]
  },
  {
   "cell_type": "code",
   "execution_count": null,
   "id": "d31fb7b7",
   "metadata": {},
   "outputs": [],
   "source": [
    "x_tide = df_merge[(df_merge[\"Tag\"] == \"0\")][\"Time\"]\n",
    "y_tide = df_merge[(df_merge[\"Tag\"] == \"0\")][\"Tide\"]\n",
    "x_imagetime_l = df_merge[(df_merge[\"Tag\"] == \"1\")&(df_merge[\"Cloud\"] < ct)][\"Time\"]\n",
    "y_imagetime_l = df_merge[(df_merge[\"Tag\"] == \"1\")&(df_merge[\"Cloud\"] < ct)][\"Tide\"]\n",
    "x_imagetime_h = df_merge[(df_merge[\"Tag\"] == \"1\")&(df_merge[\"Cloud\"] >= ct)][\"Time\"]\n",
    "y_imagetime_h = df_merge[(df_merge[\"Tag\"] == \"1\")&(df_merge[\"Cloud\"] >= ct)][\"Tide\"]\n",
    "\n",
    "fig = plt.figure(figsize=(20,7))\n",
    "plt.rcParams[\"font.size\"] = 16\n",
    "ax = plt.subplot(111)\n",
    "\n",
    "ax.plot(x_tide, y_tide, linewidth=1)\n",
    "ax.plot(x_imagetime_l, y_imagetime_l, 'ro')\n",
    "ax.plot(x_imagetime_h, y_imagetime_h, 'bo')\n",
    "\n",
    "ax.set_title(\"Image capture and Tide\")\n",
    "ax.set_xlabel(\"Time\")\n",
    "ax.set_ylabel(\"Tide Level(cm)\")\n",
    "\n",
    "#ax.minorticks_on()\n",
    "ax.tick_params(axis=\"both\", which=\"major\",direction=\"in\",length=7,width=2,top=\"on\",right=\"on\")\n",
    "ax.tick_params(axis=\"both\", which=\"minor\",direction=\"in\",length=4,width=1,top=\"on\",right=\"on\")\n",
    "ax.xaxis.set_major_formatter(DateFormatter(\"%Y-%m-%d\"))\n",
    "ax.xaxis.set_major_locator(mdates.MonthLocator(interval=1))\n",
    "#ax.xaxis.set_minor_locator(mdates.MonthLocator(interval=1))\n",
    "\n",
    "ax.set_ylim(y_tide.min()*1.2, y_tide.max()*1.2)\n",
    "ax.set_xlim(datetime.datetime(2022, 11, 1), datetime.datetime(2023, 1, 10))\n",
    "\n",
    "plt.show()"
   ]
  },
  {
   "cell_type": "code",
   "execution_count": null,
   "id": "e25d3522",
   "metadata": {},
   "outputs": [],
   "source": []
  }
 ],
 "metadata": {
  "kernelspec": {
   "display_name": "Python 3 (ipykernel)",
   "language": "python",
   "name": "python3"
  },
  "language_info": {
   "codemirror_mode": {
    "name": "ipython",
    "version": 3
   },
   "file_extension": ".py",
   "mimetype": "text/x-python",
   "name": "python",
   "nbconvert_exporter": "python",
   "pygments_lexer": "ipython3",
   "version": "3.9.12"
  }
 },
 "nbformat": 4,
 "nbformat_minor": 5
}
